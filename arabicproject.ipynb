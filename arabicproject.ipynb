{
 "cells": [
  {
   "cell_type": "code",
   "execution_count": 4,
   "metadata": {
    "scrolled": true
   },
   "outputs": [],
   "source": [
    "from docx import Document\n",
    "import re\n",
    "document = Document('ar_encyclopedia_of_fiqh_heartscopy.docx')\n",
    "textlist = []\n",
    "list1 = []\n",
    "list2 = []\n",
    "chaptername = [\"2- فقه عظمة الرب -3\",\"فقه قدرة الرب\"]\n",
    "for para in document.paragraphs:\n",
    "    textlist.append(para.text)\n",
    "\n",
    "# for chap in range(len(chaptername)):\n",
    "for text in range(len(textlist)):\n",
    " \n",
    "    list1.append(textlist[text])\n",
    "    if textlist[text] == \"2- فقه عظمة الرب\":\n",
    "#         for text1 in range(len(list1),len(textlist)):\n",
    "#             list2.append(textlist[text1])\n",
    "#             if textlist[text1] == '3- فقه قدرة الرب':\n",
    "            break\n",
    "    else:\n",
    "        pass  \n",
    "\n",
    "\n",
    "# for text1 in range(len(list1),len(textlist)):\n",
    "#     list2.append(textlist[text1])\n",
    "#     if textlist[text1] == '3- فقه قدرة الرب':\n",
    "#         break\n",
    "#     else:\n",
    "#         pass  \n",
    "chapter1 = ' '.join([str(item) for item in list1])\n",
    "# chapter2 = ' '.join([str(item) for item in list2])\n",
    "\n",
    "\n"
   ]
  },
  {
   "cell_type": "code",
   "execution_count": null,
   "metadata": {},
   "outputs": [],
   "source": []
  },
  {
   "cell_type": "code",
   "execution_count": 5,
   "metadata": {},
   "outputs": [
    {
     "ename": "NameError",
     "evalue": "name 'chapter2' is not defined",
     "output_type": "error",
     "traceback": [
      "\u001b[0;31m---------------------------------------------------------------------------\u001b[0m",
      "\u001b[0;31mNameError\u001b[0m                                 Traceback (most recent call last)",
      "\u001b[0;32m<ipython-input-5-12893ae9fee7>\u001b[0m in \u001b[0;36m<module>\u001b[0;34m\u001b[0m\n\u001b[1;32m      1\u001b[0m \u001b[0;32mfrom\u001b[0m \u001b[0mnltk\u001b[0m \u001b[0;32mimport\u001b[0m \u001b[0msent_tokenize\u001b[0m\u001b[0;34m\u001b[0m\u001b[0;34m\u001b[0m\u001b[0m\n\u001b[1;32m      2\u001b[0m \u001b[0mchapter1sent\u001b[0m \u001b[0;34m=\u001b[0m \u001b[0msent_tokenize\u001b[0m\u001b[0;34m(\u001b[0m\u001b[0mchapter1\u001b[0m\u001b[0;34m)\u001b[0m\u001b[0;34m\u001b[0m\u001b[0;34m\u001b[0m\u001b[0m\n\u001b[0;32m----> 3\u001b[0;31m \u001b[0mchapter2sent\u001b[0m \u001b[0;34m=\u001b[0m \u001b[0msent_tokenize\u001b[0m\u001b[0;34m(\u001b[0m\u001b[0mchapter2\u001b[0m\u001b[0;34m)\u001b[0m\u001b[0;34m\u001b[0m\u001b[0;34m\u001b[0m\u001b[0m\n\u001b[0m",
      "\u001b[0;31mNameError\u001b[0m: name 'chapter2' is not defined"
     ]
    }
   ],
   "source": [
    "from nltk import sent_tokenize\n",
    "chapter1sent = sent_tokenize(chapter1)\n",
    "chapter2sent = sent_tokenize(chapter2)\n"
   ]
  },
  {
   "cell_type": "code",
   "execution_count": null,
   "metadata": {},
   "outputs": [],
   "source": [
    "\n",
    "# for sent1 in range(len(chapter1sent)):\n",
    "#     for sent2 in range(len(chapter2sent)):\n",
    "#         if chapter1sent[sent1] == chapter2sent[sent2]:\n",
    "#             print(chapter1sent[sent2])\n",
    "#             count = count + 1\n",
    "#             print(count)"
   ]
  },
  {
   "cell_type": "code",
   "execution_count": null,
   "metadata": {},
   "outputs": [],
   "source": [
    "# import re\n",
    "# l1 = []\n",
    "# for text in range(len(textlist)):\n",
    "   \n",
    "#     l1.append(textlist[text])\n",
    "#     if textlist[text] == '2- فقه عظمة الرب':\n",
    "#          for word in l1:\n",
    "#                 result = re.compile('[ا-ي]',word)\n",
    "#                 print(result)\n",
    "# #         print('2- فقه عظمة الرب')\n",
    "# #         if textlist[text] == '[الزمر: 67]':\n",
    "# #             print('found')"
   ]
  },
  {
   "cell_type": "code",
   "execution_count": 6,
   "metadata": {},
   "outputs": [],
   "source": [
    "# l3 = [] \n",
    "# for surah in chapter1:\n",
    "#     result = re.findall('[الحشر: 24]',chapter1)\n",
    "#     print(result)\n",
    "#     if l1[surah] == \"موسوعة فقه القلوب\":\n",
    "#         l3.append(l1[surah])\n",
    "# result = re.findall(r'\\[([الحشر: 24]+)\\]',chapter1)"
   ]
  },
  {
   "cell_type": "code",
   "execution_count": 7,
   "metadata": {},
   "outputs": [
    {
     "data": {
      "text/plain": [
       "['آل عمران: 102',\n",
       " 'النساء: 1',\n",
       " 'الأحزاب: 70، 71',\n",
       " 'الجمعة: 4',\n",
       " 'الفتح: 17',\n",
       " 'التوبة: 100',\n",
       " 'فصلت: 33',\n",
       " 'النحل: 97',\n",
       " 'الجمعة: 4',\n",
       " 'طه: 114',\n",
       " 'البقرة: 159، 160',\n",
       " 'هود: 88',\n",
       " 'محمد: 19',\n",
       " 'المائدة: 98، 99',\n",
       " 'الشورى: 11',\n",
       " 'الحشر: 23',\n",
       " 'الحشر: 24']"
      ]
     },
     "execution_count": 7,
     "metadata": {},
     "output_type": "execute_result"
    }
   ],
   "source": [
    "result = re.findall(r\"[^[]*\\[([^]]*)\\]\", chapter1)\n",
    "# result1 = re.findall(r\"[^[]*\\[([^]]*)\\]\", chapter2)\n",
    "result"
   ]
  },
  {
   "cell_type": "code",
   "execution_count": 64,
   "metadata": {},
   "outputs": [
    {
     "data": {
      "text/plain": [
       "['102',\n",
       " '1',\n",
       " '70',\n",
       " '71',\n",
       " '4',\n",
       " '17',\n",
       " '100',\n",
       " '33',\n",
       " '97',\n",
       " '4',\n",
       " '114',\n",
       " '159',\n",
       " '160',\n",
       " '88',\n",
       " '0555144300',\n",
       " '0504953332',\n",
       " '1',\n",
       " '19',\n",
       " '98',\n",
       " '99',\n",
       " '11',\n",
       " '23',\n",
       " '24',\n",
       " '2']"
      ]
     },
     "execution_count": 64,
     "metadata": {},
     "output_type": "execute_result"
    }
   ],
   "source": [
    "re.findall(r'\\d+',chapter1)"
   ]
  },
  {
   "cell_type": "code",
   "execution_count": null,
   "metadata": {},
   "outputs": [],
   "source": []
  }
 ],
 "metadata": {
  "kernelspec": {
   "display_name": "Python 3",
   "language": "python",
   "name": "python3"
  },
  "language_info": {
   "codemirror_mode": {
    "name": "ipython",
    "version": 3
   },
   "file_extension": ".py",
   "mimetype": "text/x-python",
   "name": "python",
   "nbconvert_exporter": "python",
   "pygments_lexer": "ipython3",
   "version": "3.8.10"
  }
 },
 "nbformat": 4,
 "nbformat_minor": 4
}
